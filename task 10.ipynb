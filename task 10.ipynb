{
 "cells": [
  {
   "cell_type": "code",
   "execution_count": 1,
   "id": "1f6ac063-d676-4bff-b094-fb2aea1e6d86",
   "metadata": {},
   "outputs": [],
   "source": [
    "# Delete a file using Python."
   ]
  },
  {
   "cell_type": "code",
   "execution_count": 2,
   "id": "8acfab1a-46d0-429c-b045-9c0c1162d3be",
   "metadata": {},
   "outputs": [
    {
     "name": "stdout",
     "output_type": "stream",
     "text": [
      "file \"task8.txt\" has been deleted.....\n"
     ]
    }
   ],
   "source": [
    "import os\n",
    "\n",
    "file_path = 'task8.txt'\n",
    "\n",
    "if os.path.exists(file_path):\n",
    "    os.remove(file_path)\n",
    "    print(f'file \"{file_path}\" has been deleted.....')\n",
    "else:\n",
    "    print('file does not exist.....')\n"
   ]
  },
  {
   "cell_type": "code",
   "execution_count": null,
   "id": "da89ec42-7fd3-445b-8606-a60680894d7c",
   "metadata": {},
   "outputs": [],
   "source": []
  }
 ],
 "metadata": {
  "kernelspec": {
   "display_name": "Python 3 (ipykernel)",
   "language": "python",
   "name": "python3"
  },
  "language_info": {
   "codemirror_mode": {
    "name": "ipython",
    "version": 3
   },
   "file_extension": ".py",
   "mimetype": "text/x-python",
   "name": "python",
   "nbconvert_exporter": "python",
   "pygments_lexer": "ipython3",
   "version": "3.10.8"
  }
 },
 "nbformat": 4,
 "nbformat_minor": 5
}
