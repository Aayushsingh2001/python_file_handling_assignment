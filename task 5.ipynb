{
 "cells": [
  {
   "cell_type": "code",
   "execution_count": 1,
   "id": "b0ac83ef-d6ce-49ba-8b09-dc18770ec401",
   "metadata": {},
   "outputs": [],
   "source": [
    "# Write the contents of a list to a file, with each item on a new line."
   ]
  },
  {
   "cell_type": "code",
   "execution_count": 3,
   "id": "bf3152bf-e899-4b12-bd88-8e3aa89315e5",
   "metadata": {},
   "outputs": [],
   "source": [
    "items = [\"item 1\", \"item 2\", \"item 3\"]\n",
    "\n",
    "with open(\"task1.txt\",\"w\") as file:\n",
    "    for item in items:\n",
    "        file.write(item+ \"\\n\")"
   ]
  },
  {
   "cell_type": "code",
   "execution_count": null,
   "id": "0bc54904-04cf-4533-a152-0860935304a7",
   "metadata": {},
   "outputs": [],
   "source": []
  }
 ],
 "metadata": {
  "kernelspec": {
   "display_name": "Python 3 (ipykernel)",
   "language": "python",
   "name": "python3"
  },
  "language_info": {
   "codemirror_mode": {
    "name": "ipython",
    "version": 3
   },
   "file_extension": ".py",
   "mimetype": "text/x-python",
   "name": "python",
   "nbconvert_exporter": "python",
   "pygments_lexer": "ipython3",
   "version": "3.10.8"
  }
 },
 "nbformat": 4,
 "nbformat_minor": 5
}
