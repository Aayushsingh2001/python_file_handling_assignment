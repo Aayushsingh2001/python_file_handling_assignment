{
 "cells": [
  {
   "cell_type": "code",
   "execution_count": 1,
   "id": "5ee89355-4781-441d-9acc-4ce07e2428c3",
   "metadata": {},
   "outputs": [],
   "source": [
    "# Read the file content into a list, where each line is an element of the list."
   ]
  },
  {
   "cell_type": "code",
   "execution_count": 4,
   "id": "e1c37e61-1306-4e3f-88c6-7a3628994340",
   "metadata": {},
   "outputs": [
    {
     "name": "stdout",
     "output_type": "stream",
     "text": [
      "['item 1', 'item 2', 'item 3']\n"
     ]
    }
   ],
   "source": [
    "with open(\"task1.txt\",\"r\") as file:\n",
    "    lines = file.readlines()\n",
    "    \n",
    "lines = [line.strip() for line in lines]\n",
    "print(lines)"
   ]
  },
  {
   "cell_type": "code",
   "execution_count": null,
   "id": "a51716c0-c678-4b8f-bce5-6314c5e4f57f",
   "metadata": {},
   "outputs": [],
   "source": []
  }
 ],
 "metadata": {
  "kernelspec": {
   "display_name": "Python 3 (ipykernel)",
   "language": "python",
   "name": "python3"
  },
  "language_info": {
   "codemirror_mode": {
    "name": "ipython",
    "version": 3
   },
   "file_extension": ".py",
   "mimetype": "text/x-python",
   "name": "python",
   "nbconvert_exporter": "python",
   "pygments_lexer": "ipython3",
   "version": "3.10.8"
  }
 },
 "nbformat": 4,
 "nbformat_minor": 5
}
