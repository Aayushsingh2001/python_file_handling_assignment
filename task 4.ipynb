{
 "cells": [
  {
   "cell_type": "code",
   "execution_count": 1,
   "id": "740d2729-15c7-4a00-bddf-7be44643ad38",
   "metadata": {},
   "outputs": [],
   "source": [
    "# Read and print each line from the file one by one."
   ]
  },
  {
   "cell_type": "code",
   "execution_count": 6,
   "id": "0229fd7e-d039-4a58-a36d-672f9c2e6a63",
   "metadata": {},
   "outputs": [
    {
     "name": "stdout",
     "output_type": "stream",
     "text": [
      "Hello World! My name is Aayush Singh \n",
      "I am from gorakhpur"
     ]
    }
   ],
   "source": [
    "with open(\"task1.txt\", \"r\") as file:\n",
    "    for line in file:\n",
    "        print(line,end = \"\")"
   ]
  },
  {
   "cell_type": "code",
   "execution_count": null,
   "id": "6a5d7a4c-224d-4da8-b953-96a280973e70",
   "metadata": {},
   "outputs": [],
   "source": []
  }
 ],
 "metadata": {
  "kernelspec": {
   "display_name": "Python 3 (ipykernel)",
   "language": "python",
   "name": "python3"
  },
  "language_info": {
   "codemirror_mode": {
    "name": "ipython",
    "version": 3
   },
   "file_extension": ".py",
   "mimetype": "text/x-python",
   "name": "python",
   "nbconvert_exporter": "python",
   "pygments_lexer": "ipython3",
   "version": "3.10.8"
  }
 },
 "nbformat": 4,
 "nbformat_minor": 5
}
