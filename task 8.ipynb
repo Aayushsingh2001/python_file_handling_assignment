{
 "cells": [
  {
   "cell_type": "code",
   "execution_count": 1,
   "id": "5e4d4a52-ed64-4c20-a70c-61655e7c91e8",
   "metadata": {},
   "outputs": [],
   "source": [
    "# Copy the contents of one file to another file."
   ]
  },
  {
   "cell_type": "code",
   "execution_count": 2,
   "id": "ffd67365-5c01-4320-ac66-117ef872df4b",
   "metadata": {},
   "outputs": [
    {
     "name": "stdout",
     "output_type": "stream",
     "text": [
      "copying.....file......!\n"
     ]
    }
   ],
   "source": [
    "import shutil\n",
    "\n",
    "shutil.copyfile(\"task1.txt\", \"task8.txt\")\n",
    "print(\"copying.....file......!\")"
   ]
  },
  {
   "cell_type": "code",
   "execution_count": null,
   "id": "573f7077-515e-44c7-a1be-926e1fe16365",
   "metadata": {},
   "outputs": [],
   "source": []
  }
 ],
 "metadata": {
  "kernelspec": {
   "display_name": "Python 3 (ipykernel)",
   "language": "python",
   "name": "python3"
  },
  "language_info": {
   "codemirror_mode": {
    "name": "ipython",
    "version": 3
   },
   "file_extension": ".py",
   "mimetype": "text/x-python",
   "name": "python",
   "nbconvert_exporter": "python",
   "pygments_lexer": "ipython3",
   "version": "3.10.8"
  }
 },
 "nbformat": 4,
 "nbformat_minor": 5
}
