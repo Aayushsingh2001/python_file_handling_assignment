{
 "cells": [
  {
   "cell_type": "code",
   "execution_count": 1,
   "id": "25f0bd39-8daa-40f7-bc8e-dd2b5d35de00",
   "metadata": {},
   "outputs": [],
   "source": [
    "# Add additional text to the existing file without deleting the current content"
   ]
  },
  {
   "cell_type": "code",
   "execution_count": 7,
   "id": "522867a4-20e7-40db-ba0a-b60602a9aa7e",
   "metadata": {},
   "outputs": [],
   "source": [
    "with open(\"task1.txt\",\"a\") as file:\n",
    "    file.write(\" I am from gorakhpur\")"
   ]
  },
  {
   "cell_type": "code",
   "execution_count": null,
   "id": "f5eb9f7e-a62d-4282-bf79-511663906f3c",
   "metadata": {},
   "outputs": [],
   "source": []
  }
 ],
 "metadata": {
  "kernelspec": {
   "display_name": "Python 3 (ipykernel)",
   "language": "python",
   "name": "python3"
  },
  "language_info": {
   "codemirror_mode": {
    "name": "ipython",
    "version": 3
   },
   "file_extension": ".py",
   "mimetype": "text/x-python",
   "name": "python",
   "nbconvert_exporter": "python",
   "pygments_lexer": "ipython3",
   "version": "3.10.8"
  }
 },
 "nbformat": 4,
 "nbformat_minor": 5
}
