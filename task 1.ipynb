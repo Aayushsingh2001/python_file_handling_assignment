{
 "cells": [
  {
   "cell_type": "code",
   "execution_count": 1,
   "id": "4b6a92f1-3c0d-4100-a527-db2b8d6a676a",
   "metadata": {},
   "outputs": [],
   "source": [
    "# Create a new text file and write a few lines of text into it"
   ]
  },
  {
   "cell_type": "code",
   "execution_count": 4,
   "id": "a0eeb5ba-804a-4611-b601-b4c8a7c5f534",
   "metadata": {},
   "outputs": [],
   "source": [
    "file = open(\"task1.txt\", \"w\")\n",
    "file.write(\"Hello World! My name is Aayush Singh\")\n",
    "file.close()"
   ]
  },
  {
   "cell_type": "code",
   "execution_count": null,
   "id": "911d2c47-37d1-4aaa-a865-b3ff7f81b90c",
   "metadata": {},
   "outputs": [],
   "source": []
  }
 ],
 "metadata": {
  "kernelspec": {
   "display_name": "Python 3 (ipykernel)",
   "language": "python",
   "name": "python3"
  },
  "language_info": {
   "codemirror_mode": {
    "name": "ipython",
    "version": 3
   },
   "file_extension": ".py",
   "mimetype": "text/x-python",
   "name": "python",
   "nbconvert_exporter": "python",
   "pygments_lexer": "ipython3",
   "version": "3.10.8"
  }
 },
 "nbformat": 4,
 "nbformat_minor": 5
}
