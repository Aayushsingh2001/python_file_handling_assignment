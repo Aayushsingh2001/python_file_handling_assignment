{
 "cells": [
  {
   "cell_type": "code",
   "execution_count": 1,
   "id": "f969570d-ff29-4777-b6ac-c3cf9d358f90",
   "metadata": {},
   "outputs": [],
   "source": [
    "# Check if a file exists before attempting to read it."
   ]
  },
  {
   "cell_type": "code",
   "execution_count": 3,
   "id": "c0f25e09-3942-4e4c-bfb1-47e1d0dd8121",
   "metadata": {},
   "outputs": [
    {
     "name": "stdout",
     "output_type": "stream",
     "text": [
      "file does not exists....\n"
     ]
    }
   ],
   "source": [
    "import os\n",
    "\n",
    "file_name = \"task.txt\"\n",
    "if os.path.exists(file_name):\n",
    "    with open(file_name, 'r') as file:\n",
    "        print(\"contents of the file >>\", file.read())\n",
    "else:\n",
    "    print(\"file does not exists....\")"
   ]
  },
  {
   "cell_type": "code",
   "execution_count": null,
   "id": "cfbad014-ff62-420a-8b10-e4d5c9877bd1",
   "metadata": {},
   "outputs": [],
   "source": []
  }
 ],
 "metadata": {
  "kernelspec": {
   "display_name": "Python 3 (ipykernel)",
   "language": "python",
   "name": "python3"
  },
  "language_info": {
   "codemirror_mode": {
    "name": "ipython",
    "version": 3
   },
   "file_extension": ".py",
   "mimetype": "text/x-python",
   "name": "python",
   "nbconvert_exporter": "python",
   "pygments_lexer": "ipython3",
   "version": "3.10.8"
  }
 },
 "nbformat": 4,
 "nbformat_minor": 5
}
