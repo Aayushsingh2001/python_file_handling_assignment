{
 "cells": [
  {
   "cell_type": "code",
   "execution_count": 1,
   "id": "0714e7a7-ecb2-4a58-a4f8-5ecc9e65eba3",
   "metadata": {},
   "outputs": [],
   "source": [
    "# Count the total number of words in the file."
   ]
  },
  {
   "cell_type": "code",
   "execution_count": 3,
   "id": "c0e4d398-ad07-4f58-8970-02325fad1f8b",
   "metadata": {},
   "outputs": [
    {
     "name": "stdout",
     "output_type": "stream",
     "text": [
      "Total numbers of words =  6\n"
     ]
    }
   ],
   "source": [
    "count = 0\n",
    "with open('task1.txt', 'r') as file:\n",
    "    for line in file:\n",
    "        count+=len(line.split())\n",
    "        \n",
    "print(\"Total numbers of words = \", count)"
   ]
  },
  {
   "cell_type": "code",
   "execution_count": null,
   "id": "de7ce17b-8993-4d33-accc-632934893b26",
   "metadata": {},
   "outputs": [],
   "source": []
  }
 ],
 "metadata": {
  "kernelspec": {
   "display_name": "Python 3 (ipykernel)",
   "language": "python",
   "name": "python3"
  },
  "language_info": {
   "codemirror_mode": {
    "name": "ipython",
    "version": 3
   },
   "file_extension": ".py",
   "mimetype": "text/x-python",
   "name": "python",
   "nbconvert_exporter": "python",
   "pygments_lexer": "ipython3",
   "version": "3.10.8"
  }
 },
 "nbformat": 4,
 "nbformat_minor": 5
}
